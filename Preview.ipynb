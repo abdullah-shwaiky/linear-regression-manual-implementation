{
 "cells": [
  {
   "cell_type": "markdown",
   "id": "4b4a5357",
   "metadata": {},
   "source": [
    "# Linear Regression Class Preview"
   ]
  },
  {
   "cell_type": "markdown",
   "id": "6b809dc4",
   "metadata": {},
   "source": [
    "This class acts as a linear regression model that is trained over a dataset of points with multiple features, over a range of methods to calculate the weights for the model. use ``help(LinearRegressor)`` for more info."
   ]
  },
  {
   "cell_type": "markdown",
   "id": "a4f3a8c6",
   "metadata": {},
   "source": [
    "## Dependencies\n",
    "The ``LinearRegressor()`` model requires only numpy to work properly, and is imported inside the class."
   ]
  },
  {
   "cell_type": "code",
   "execution_count": 1,
   "id": "4fb4fbae",
   "metadata": {},
   "outputs": [],
   "source": [
    "import numpy as np\n",
    "import matplotlib.pyplot as plt"
   ]
  },
  {
   "cell_type": "markdown",
   "id": "fc6d9ff4",
   "metadata": {},
   "source": [
    "### Generating Data"
   ]
  },
  {
   "cell_type": "code",
   "execution_count": 2,
   "id": "50ad49b9",
   "metadata": {},
   "outputs": [],
   "source": [
    "X = 2 * np.random.rand(100, 1)\n",
    "y = 4 + 3 * X + np.random.randn(100, 1)"
   ]
  },
  {
   "cell_type": "markdown",
   "id": "8679dda3",
   "metadata": {},
   "source": [
    "### Visualizing points"
   ]
  },
  {
   "cell_type": "code",
   "execution_count": 3,
   "id": "15687398",
   "metadata": {},
   "outputs": [
    {
     "data": {
      "image/png": "[encoded data removed]",
      "text/plain": [
       "<Figure size 432x288 with 1 Axes>"
      ]
     },
     "metadata": {
      "needs_background": "light"
     },
     "output_type": "display_data"
    }
   ],
   "source": [
    "plt.plot(X, y, \"b.\")\n",
    "plt.xlabel(\"$x_1$\", fontsize=18)\n",
    "plt.ylabel(\"$y$\", rotation=0, fontsize=18)\n",
    "plt.axis([0, 2, 0, 15]);"
   ]
  },
  {
   "cell_type": "markdown",
   "id": "410555c3",
   "metadata": {},
   "source": [
    "# ``LinearRegressor()`` class implementation"
   ]
  },
  {
   "cell_type": "code",
   "execution_count": 4,
   "id": "0b305257",
   "metadata": {},
   "outputs": [],
   "source": [
    "from linear_regressor import LinearRegressor"
   ]
  },
  {
   "cell_type": "code",
   "execution_count": 5,
   "id": "70ef16c8",
   "metadata": {},
   "outputs": [],
   "source": [
    "model = LinearRegressor(solver='sgd',learning_schedule = True,lambda_=0.0001,alpha=0.0001)\n",
    "# using stochastic gradient descent"
   ]
  },
  {
   "cell_type": "code",
   "execution_count": 6,
   "id": "4fe76f3a",
   "metadata": {},
   "outputs": [],
   "source": [
    "model.fit(X,y) # fitting model to the data"
   ]
  },
  {
   "cell_type": "code",
   "execution_count": 7,
   "id": "6aa2a301",
   "metadata": {},
   "outputs": [
    {
     "data": {
      "text/plain": [
       "array([[4.27071648],\n",
       "       [2.51727006]])"
      ]
     },
     "execution_count": 7,
     "metadata": {},
     "output_type": "execute_result"
    }
   ],
   "source": [
    "model.theta # calculated weights"
   ]
  },
  {
   "cell_type": "markdown",
   "id": "d055d062",
   "metadata": {},
   "source": [
    "### Visualizing Result"
   ]
  },
  {
   "cell_type": "code",
   "execution_count": 8,
   "id": "285bfcdd",
   "metadata": {},
   "outputs": [],
   "source": [
    "X_predict = np.array([[0],[2]])\n",
    "y_predict = model.predict(X_predict)"
   ]
  },
  {
   "cell_type": "code",
   "execution_count": 9,
   "id": "67fc07ca",
   "metadata": {},
   "outputs": [
    {
     "data": {
      "image/png": "[encoded data removed]",
      "text/plain": [
       "<Figure size 432x288 with 1 Axes>"
      ]
     },
     "metadata": {
      "needs_background": "light"
     },
     "output_type": "display_data"
    }
   ],
   "source": [
    "plt.plot(X_predict, y_predict, \"r-\", linewidth=2, label=\"Predictions\")\n",
    "plt.plot(X, y, \"b.\")\n",
    "plt.xlabel(\"$x_1$\", fontsize=18)\n",
    "plt.ylabel(\"$y$\", rotation=0, fontsize=18)\n",
    "plt.legend(loc=\"upper left\", fontsize=14)\n",
    "plt.axis([0, 2, 0, 15]);"
   ]
  },
  {
   "cell_type": "markdown",
   "id": "4b39802f",
   "metadata": {},
   "source": [
    "## Comparason to Scikit Learn model"
   ]
  },
  {
   "cell_type": "code",
   "execution_count": 10,
   "id": "66c7a8f2",
   "metadata": {},
   "outputs": [
    {
     "data": {
      "text/plain": [
       "(array([4.23700198]), array([[2.74551543]]))"
      ]
     },
     "execution_count": 10,
     "metadata": {},
     "output_type": "execute_result"
    }
   ],
   "source": [
    "from sklearn.linear_model import LinearRegression\n",
    "\n",
    "lin_reg = LinearRegression() # LinearRegression use the SVD approach\n",
    "lin_reg.fit(X, y)\n",
    "lin_reg.intercept_, lin_reg.coef_"
   ]
  },
  {
   "cell_type": "markdown",
   "id": "62045592",
   "metadata": {},
   "source": [
    "# Conclusion"
   ]
  },
  {
   "cell_type": "markdown",
   "id": "b84ea320",
   "metadata": {},
   "source": [
    "This project was extremely fun to implement, I advise you to try it yourself by hand. It is a great exercise to deepen your understanding of the theoretical part of machine learning, and to practice using the right practical skills of coding, searching, and debugging.\n",
    "\n",
    "I advise you to try all solvers of the model, try to explain the resutls (use Scikit Learn model for reference), and have fun playing around with the hyperparameters. Good luck!"
   ]
  }
 ],
 "metadata": {
  "kernelspec": {
   "display_name": "Python 3",
   "language": "python",
   "name": "python3"
  },
  "language_info": {
   "codemirror_mode": {
    "name": "ipython",
    "version": 3
   },
   "file_extension": ".py",
   "mimetype": "text/x-python",
   "name": "python",
   "nbconvert_exporter": "python",
   "pygments_lexer": "ipython3",
   "version": "3.8.8"
  }
 },
 "nbformat": 4,
 "nbformat_minor": 5
}
